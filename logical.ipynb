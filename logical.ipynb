{
 "cells": [
  {
   "cell_type": "code",
   "execution_count": 1,
   "metadata": {},
   "outputs": [],
   "source": [
    "from pyspark.sql import SparkSession\n",
    "from pyspark.ml.feature import StringIndexer, OneHotEncoder, VectorAssembler\n",
    "from pyspark.ml.classification import LogisticRegression\n",
    "from pyspark.ml import Pipeline"
   ]
  },
  {
   "cell_type": "code",
   "execution_count": 2,
   "metadata": {},
   "outputs": [],
   "source": [
    "spark=SparkSession.builder.appName(\"logistic\").getOrCreate()"
   ]
  },
  {
   "cell_type": "code",
   "execution_count": 8,
   "metadata": {},
   "outputs": [
    {
     "name": "stdout",
     "output_type": "stream",
     "text": [
      "+---+-------------+-------+---------+-------+-------+-------+----+--------+---+-----+--------+--------+-----+--------+--------+---+\n",
      "|age|          job|marital|education|default|balance|housing|loan| contact|day|month|duration|campaign|pdays|previous|poutcome|  y|\n",
      "+---+-------------+-------+---------+-------+-------+-------+----+--------+---+-----+--------+--------+-----+--------+--------+---+\n",
      "| 30|   unemployed|married|  primary|     no|   1787|     no|  no|cellular| 19|  oct|      79|       1|   -1|       0| unknown| no|\n",
      "| 33|     services|married|secondary|     no|   4789|    yes| yes|cellular| 11|  may|     220|       1|  339|       4| failure| no|\n",
      "| 35|   management| single| tertiary|     no|   1350|    yes|  no|cellular| 16|  apr|     185|       1|  330|       1| failure| no|\n",
      "| 30|   management|married| tertiary|     no|   1476|    yes| yes| unknown|  3|  jun|     199|       4|   -1|       0| unknown| no|\n",
      "| 59|  blue-collar|married|secondary|     no|      0|    yes|  no| unknown|  5|  may|     226|       1|   -1|       0| unknown| no|\n",
      "| 35|   management| single| tertiary|     no|    747|     no|  no|cellular| 23|  feb|     141|       2|  176|       3| failure| no|\n",
      "| 36|self-employed|married| tertiary|     no|    307|    yes|  no|cellular| 14|  may|     341|       1|  330|       2|   other| no|\n",
      "| 39|   technician|married|secondary|     no|    147|    yes|  no|cellular|  6|  may|     151|       2|   -1|       0| unknown| no|\n",
      "| 41| entrepreneur|married| tertiary|     no|    221|    yes|  no| unknown| 14|  may|      57|       2|   -1|       0| unknown| no|\n",
      "| 43|     services|married|  primary|     no|    -88|    yes| yes|cellular| 17|  apr|     313|       1|  147|       2| failure| no|\n",
      "| 39|     services|married|secondary|     no|   9374|    yes|  no| unknown| 20|  may|     273|       1|   -1|       0| unknown| no|\n",
      "| 43|       admin.|married|secondary|     no|    264|    yes|  no|cellular| 17|  apr|     113|       2|   -1|       0| unknown| no|\n",
      "| 36|   technician|married| tertiary|     no|   1109|     no|  no|cellular| 13|  aug|     328|       2|   -1|       0| unknown| no|\n",
      "| 20|      student| single|secondary|     no|    502|     no|  no|cellular| 30|  apr|     261|       1|   -1|       0| unknown|yes|\n",
      "| 31|  blue-collar|married|secondary|     no|    360|    yes| yes|cellular| 29|  jan|      89|       1|  241|       1| failure| no|\n",
      "| 40|   management|married| tertiary|     no|    194|     no| yes|cellular| 29|  aug|     189|       2|   -1|       0| unknown| no|\n",
      "| 56|   technician|married|secondary|     no|   4073|     no|  no|cellular| 27|  aug|     239|       5|   -1|       0| unknown| no|\n",
      "| 37|       admin.| single| tertiary|     no|   2317|    yes|  no|cellular| 20|  apr|     114|       1|  152|       2| failure| no|\n",
      "| 25|  blue-collar| single|  primary|     no|   -221|    yes|  no| unknown| 23|  may|     250|       1|   -1|       0| unknown| no|\n",
      "| 31|     services|married|secondary|     no|    132|     no|  no|cellular|  7|  jul|     148|       1|  152|       1|   other| no|\n",
      "+---+-------------+-------+---------+-------+-------+-------+----+--------+---+-----+--------+--------+-----+--------+--------+---+\n",
      "only showing top 20 rows\n",
      "\n"
     ]
    }
   ],
   "source": [
    "file_path=\"hdfs://localhost:9000/user/hadoop/kaggel/bank.csv\"\n",
    "bankDF= spark.read.csv(file_path,header=True, inferSchema=True,sep=\";\")\n",
    "bankDF.show()"
   ]
  },
  {
   "cell_type": "code",
   "execution_count": null,
   "metadata": {},
   "outputs": [
    {
     "name": "stdout",
     "output_type": "stream",
     "text": [
      "+--------------------+-----+----------+--------------------+\n",
      "|            features|label|prediction|         probability|\n",
      "+--------------------+-----+----------+--------------------+\n",
      "|(42,[0,1,2,3,4,5,...|  0.0|       0.0|[0.86876321156153...|\n",
      "|(42,[0,1,2,3,4,5,...|  0.0|       0.0|[0.97209420115662...|\n",
      "|(42,[0,1,2,3,4,5,...|  0.0|       0.0|[0.88043859827153...|\n",
      "|(42,[0,1,2,3,4,5,...|  0.0|       0.0|[0.98339271254021...|\n",
      "|(42,[0,2,3,4,5,8,...|  0.0|       0.0|[0.99195566268778...|\n",
      "|(42,[0,1,2,3,4,5,...|  0.0|       0.0|[0.84148117127748...|\n",
      "|(42,[0,1,2,3,4,5,...|  0.0|       0.0|[0.83851917122759...|\n",
      "|(42,[0,1,2,3,4,5,...|  0.0|       0.0|[0.97027542211690...|\n",
      "|(42,[0,1,2,3,4,5,...|  0.0|       0.0|[0.99325792586304...|\n",
      "|(42,[0,1,2,3,4,5,...|  0.0|       0.0|[0.93355075190214...|\n",
      "|(42,[0,1,2,3,4,5,...|  0.0|       0.0|[0.98329249843300...|\n",
      "|(42,[0,1,2,3,4,5,...|  0.0|       0.0|[0.94269352693287...|\n",
      "|(42,[0,1,2,3,4,5,...|  0.0|       0.0|[0.8733880694049,...|\n",
      "|(42,[0,1,2,3,4,5,...|  1.0|       0.0|[0.72947209307842...|\n",
      "|(42,[0,1,2,3,4,5,...|  0.0|       0.0|[0.99040309847173...|\n",
      "|(42,[0,1,2,3,4,5,...|  0.0|       0.0|[0.94155400385262...|\n",
      "|(42,[0,1,2,3,4,5,...|  0.0|       0.0|[0.93251263539141...|\n",
      "|(42,[0,1,2,3,4,5,...|  0.0|       0.0|[0.89641224152684...|\n",
      "|(42,[0,1,2,3,4,5,...|  0.0|       0.0|[0.98505977198132...|\n",
      "|(42,[0,1,2,3,4,5,...|  0.0|       0.0|[0.93930780052765...|\n",
      "+--------------------+-----+----------+--------------------+\n",
      "only showing top 20 rows\n",
      "\n"
     ]
    }
   ],
   "source": [
    "\n",
    "\n",
    "categorical_cols = ['job', 'marital', 'education', 'default', 'housing', \n",
    "                    'loan', 'contact', 'month', 'poutcome']\n",
    "indexers = [StringIndexer(inputCol=col, outputCol=col+\"_Index\") for col in categorical_cols]\n",
    "encoders = [OneHotEncoder(inputCol=col+\"_Index\", outputCol=col+\"_Vec\") for col in categorical_cols]\n",
    "\n",
    "label_indexer = StringIndexer(inputCol=\"y\", outputCol=\"label\")\n",
    "\n",
    "assembler = VectorAssembler(\n",
    "    inputCols=['age', 'balance', 'day', 'duration', 'campaign', 'pdays', 'previous'] +\n",
    "              [col+\"_Vec\" for col in categorical_cols],\n",
    "    outputCol=\"features\"\n",
    ")\n",
    "\n",
    "lr = LogisticRegression(featuresCol='features', labelCol='label')\n",
    "\n",
    "pipeline = Pipeline(stages=indexers + encoders + [label_indexer, assembler, lr])\n",
    "\n",
    "model = pipeline.fit(bankDF)\n",
    "      \n",
    "predictions = model.transform(bankDF)\n",
    "predictions.select(\"features\", \"label\", \"prediction\", \"probability\").show()\n"
   ]
  },
  {
   "cell_type": "code",
   "execution_count": null,
   "metadata": {},
   "outputs": [],
   "source": []
  },
  {
   "cell_type": "code",
   "execution_count": null,
   "metadata": {},
   "outputs": [],
   "source": []
  },
  {
   "cell_type": "code",
   "execution_count": null,
   "metadata": {},
   "outputs": [],
   "source": []
  },
  {
   "cell_type": "code",
   "execution_count": null,
   "metadata": {},
   "outputs": [],
   "source": []
  },
  {
   "cell_type": "code",
   "execution_count": null,
   "metadata": {},
   "outputs": [],
   "source": []
  },
  {
   "cell_type": "code",
   "execution_count": null,
   "metadata": {},
   "outputs": [],
   "source": []
  }
 ],
 "metadata": {
  "kernelspec": {
   "display_name": "Python 3.10 (venv)",
   "language": "python",
   "name": "venv"
  },
  "language_info": {
   "codemirror_mode": {
    "name": "ipython",
    "version": 3
   },
   "file_extension": ".py",
   "mimetype": "text/x-python",
   "name": "python",
   "nbconvert_exporter": "python",
   "pygments_lexer": "ipython3",
   "version": "3.12.2"
  }
 },
 "nbformat": 4,
 "nbformat_minor": 2
}
