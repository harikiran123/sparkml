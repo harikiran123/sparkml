{
 "cells": [
  {
   "cell_type": "code",
   "execution_count": 4,
   "metadata": {},
   "outputs": [],
   "source": [
    "from pyspark.sql import SparkSession\n",
    "from pyspark.ml import Pipeline\n",
    "from pyspark.ml.feature import VectorAssembler, StringIndexer\n",
    "from pyspark.ml.regression import RandomForestRegressor\n",
    "from pyspark.ml.evaluation import RegressionEvaluator\n",
    "from pyspark.ml.feature import OneHotEncoder, StringIndexer\n",
    "from pyspark.ml import Pipeline\n",
    "from pyspark.ml.regression import LinearRegression\n",
    "from pyspark.ml.evaluation import RegressionEvaluator\n",
    "from pyspark.ml.regression import DecisionTreeRegressor\n",
    "from pyspark.ml.feature import RFormula\n",
    "import pandas as pd\n",
    "import click\n"
   ]
  },
  {
   "cell_type": "code",
   "execution_count": 5,
   "metadata": {},
   "outputs": [],
   "source": [
    "spark=SparkSession.builder.appName(\"App\").getOrCreate()"
   ]
  },
  {
   "cell_type": "code",
   "execution_count": 6,
   "metadata": {},
   "outputs": [
    {
     "name": "stdout",
     "output_type": "stream",
     "text": [
      "+---------+--------+------------------+-----------+--------------+----------+----------+-------------+------------------+---------------+\n",
      "|longitude|latitude|housing_median_age|total_rooms|total_bedrooms|population|households|median_income|median_house_value|ocean_proximity|\n",
      "+---------+--------+------------------+-----------+--------------+----------+----------+-------------+------------------+---------------+\n",
      "|  -122.23|   37.88|              41.0|      880.0|         129.0|     322.0|     126.0|       8.3252|          452600.0|       NEAR BAY|\n",
      "|  -122.22|   37.86|              21.0|     7099.0|        1106.0|    2401.0|    1138.0|       8.3014|          358500.0|       NEAR BAY|\n",
      "|  -122.24|   37.85|              52.0|     1467.0|         190.0|     496.0|     177.0|       7.2574|          352100.0|       NEAR BAY|\n",
      "|  -122.25|   37.85|              52.0|     1274.0|         235.0|     558.0|     219.0|       5.6431|          341300.0|       NEAR BAY|\n",
      "|  -122.25|   37.85|              52.0|     1627.0|         280.0|     565.0|     259.0|       3.8462|          342200.0|       NEAR BAY|\n",
      "|  -122.25|   37.85|              52.0|      919.0|         213.0|     413.0|     193.0|       4.0368|          269700.0|       NEAR BAY|\n",
      "|  -122.25|   37.84|              52.0|     2535.0|         489.0|    1094.0|     514.0|       3.6591|          299200.0|       NEAR BAY|\n",
      "|  -122.25|   37.84|              52.0|     3104.0|         687.0|    1157.0|     647.0|         3.12|          241400.0|       NEAR BAY|\n",
      "|  -122.26|   37.84|              42.0|     2555.0|         665.0|    1206.0|     595.0|       2.0804|          226700.0|       NEAR BAY|\n",
      "|  -122.25|   37.84|              52.0|     3549.0|         707.0|    1551.0|     714.0|       3.6912|          261100.0|       NEAR BAY|\n",
      "|  -122.26|   37.85|              52.0|     2202.0|         434.0|     910.0|     402.0|       3.2031|          281500.0|       NEAR BAY|\n",
      "|  -122.26|   37.85|              52.0|     3503.0|         752.0|    1504.0|     734.0|       3.2705|          241800.0|       NEAR BAY|\n",
      "|  -122.26|   37.85|              52.0|     2491.0|         474.0|    1098.0|     468.0|        3.075|          213500.0|       NEAR BAY|\n",
      "|  -122.26|   37.84|              52.0|      696.0|         191.0|     345.0|     174.0|       2.6736|          191300.0|       NEAR BAY|\n",
      "|  -122.26|   37.85|              52.0|     2643.0|         626.0|    1212.0|     620.0|       1.9167|          159200.0|       NEAR BAY|\n",
      "|  -122.26|   37.85|              50.0|     1120.0|         283.0|     697.0|     264.0|        2.125|          140000.0|       NEAR BAY|\n",
      "|  -122.27|   37.85|              52.0|     1966.0|         347.0|     793.0|     331.0|        2.775|          152500.0|       NEAR BAY|\n",
      "|  -122.27|   37.85|              52.0|     1228.0|         293.0|     648.0|     303.0|       2.1202|          155500.0|       NEAR BAY|\n",
      "|  -122.26|   37.84|              50.0|     2239.0|         455.0|     990.0|     419.0|       1.9911|          158700.0|       NEAR BAY|\n",
      "|  -122.27|   37.84|              52.0|     1503.0|         298.0|     690.0|     275.0|       2.6033|          162900.0|       NEAR BAY|\n",
      "+---------+--------+------------------+-----------+--------------+----------+----------+-------------+------------------+---------------+\n",
      "only showing top 20 rows\n",
      "\n"
     ]
    }
   ],
   "source": [
    "file_path=\"hdfs://localhost:9000/user/hadoop/kaggel/housing.csv\"\n",
    "airbnbDF = spark.read.csv(file_path, header=True, inferSchema=True)\n",
    "airbnbDF.show()"
   ]
  },
  {
   "cell_type": "code",
   "execution_count": 7,
   "metadata": {},
   "outputs": [
    {
     "name": "stdout",
     "output_type": "stream",
     "text": [
      "there are16403 rows in the training set and 4080 rows in test set\n"
     ]
    }
   ],
   "source": [
    "trainDF,testDF=airbnbDF.randomSplit([.8,.2],seed=42)\n",
    "trainDF = trainDF.dropna(subset=[\"total_bedrooms\", \"median_house_value\"])\n",
    "print(f\"there are{trainDF.count()} rows in the training set and {testDF.count()} rows in test set\")     "
   ]
  },
  {
   "cell_type": "code",
   "execution_count": 8,
   "metadata": {},
   "outputs": [
    {
     "name": "stdout",
     "output_type": "stream",
     "text": [
      "+--------------+--------+------------------+\n",
      "|total_bedrooms|features|median_house_value|\n",
      "+--------------+--------+------------------+\n",
      "|         300.0| [300.0]|           94600.0|\n",
      "|         552.0| [552.0]|           85800.0|\n",
      "|         528.0| [528.0]|           79000.0|\n",
      "|         394.0| [394.0]|          111400.0|\n",
      "|         419.0| [419.0]|           76100.0|\n",
      "+--------------+--------+------------------+\n",
      "only showing top 5 rows\n",
      "\n"
     ]
    }
   ],
   "source": [
    "vecAssembler= VectorAssembler(inputCols=[\"total_bedrooms\"],outputCol=\"features\")\n",
    "vecTrainDF=vecAssembler.transform(trainDF)\n",
    "vecTrainDF.select(\"total_bedrooms\",\"features\",\"median_house_value\").show(5)"
   ]
  },
  {
   "cell_type": "code",
   "execution_count": 9,
   "metadata": {},
   "outputs": [
    {
     "name": "stdout",
     "output_type": "stream",
     "text": [
      "the formula for linera regerrsion line is price = 14.89*bedrooms + 197728.32\n"
     ]
    }
   ],
   "source": [
    "lr = LinearRegression(featuresCol=\"features\", labelCol=\"median_house_value\")\n",
    "lrmodel = lr.fit(vecTrainDF)\n",
    "m = round(lrmodel.coefficients[0], 2)\n",
    "b = round(lrmodel.intercept, 2)\n",
    "print(f\"the formula for linera regerrsion line is price = {m}*bedrooms + {b}\")\n"
   ]
  },
  {
   "cell_type": "code",
   "execution_count": 10,
   "metadata": {},
   "outputs": [
    {
     "name": "stdout",
     "output_type": "stream",
     "text": [
      "+--------------+--------+------------------+------------------+\n",
      "|total_bedrooms|features|median_house_value|        prediction|\n",
      "+--------------+--------+------------------+------------------+\n",
      "|         531.0| [531.0]|          103600.0|205633.60243618884|\n",
      "|         453.0| [453.0]|          106700.0|204472.37429262503|\n",
      "|         616.0| [616.0]|           73200.0|206899.04336186734|\n",
      "|        1056.0|[1056.0]|           90100.0| 213449.5610947914|\n",
      "|         364.0| [364.0]|           67000.0|203147.38320573812|\n",
      "|         309.0| [309.0]|           86400.0| 202328.5684891226|\n",
      "|         479.0| [479.0]|           70500.0| 204859.4503404796|\n",
      "|         283.0| [283.0]|           85100.0|  201941.492441268|\n",
      "|         618.0| [618.0]|           80500.0|206928.81844247153|\n",
      "|         214.0| [214.0]|           96000.0| 200914.2521604231|\n",
      "|         385.0| [385.0]|           75500.0| 203460.0215520822|\n",
      "|         324.0| [324.0]|           75000.0| 202551.8815936541|\n",
      "|         511.0| [511.0]|          100600.0|205335.85163014682|\n",
      "|         335.0| [335.0]|           74100.0| 202715.6445369772|\n",
      "|         405.0| [405.0]|           66800.0| 203757.7723581242|\n",
      "|         312.0| [312.0]|           72600.0| 202373.2311100289|\n",
      "|         462.0| [462.0]|           81100.0|204606.36215534393|\n",
      "|         267.0| [267.0]|          135600.0| 201703.2917964344|\n",
      "|         799.0| [799.0]|          119400.0|209623.46323715165|\n",
      "|         213.0| [213.0]|           71300.0|  200899.364620121|\n",
      "+--------------+--------+------------------+------------------+\n",
      "only showing top 20 rows\n",
      "\n"
     ]
    }
   ],
   "source": [
    "pipeline=Pipeline(stages=[vecAssembler, lr])\n",
    "pipelineModel=pipeline.fit(trainDF)\n",
    "predDF=pipelineModel.transform(testDF)\n",
    "predDF.select(\"total_bedrooms\",\"features\",\"median_house_value\",\"prediction\").show()"
   ]
  },
  {
   "cell_type": "code",
   "execution_count": 11,
   "metadata": {},
   "outputs": [
    {
     "name": "stdout",
     "output_type": "stream",
     "text": [
      "there are16403 rows in the training set and 4080 rows in test set\n"
     ]
    }
   ],
   "source": [
    "trainDF,testDF=airbnbDF.randomSplit([.8,.2],seed=42)\n",
    "trainDF = trainDF.dropna(subset=[\"total_bedrooms\",\"longitude\",\"latitude\", \"median_house_value\"])\n",
    "print(f\"there are{trainDF.count()} rows in the training set and {testDF.count()} rows in test set\")"
   ]
  },
  {
   "cell_type": "code",
   "execution_count": 12,
   "metadata": {},
   "outputs": [
    {
     "name": "stdout",
     "output_type": "stream",
     "text": [
      "+--------------+---------+--------+--------------------+------------------+\n",
      "|total_bedrooms|longitude|latitude|            features|median_house_value|\n",
      "+--------------+---------+--------+--------------------+------------------+\n",
      "|         300.0|  -124.35|   40.54|[300.0,-124.35,40...|           94600.0|\n",
      "|         552.0|   -124.3|    41.8| [552.0,-124.3,41.8]|           85800.0|\n",
      "|         528.0|  -124.27|   40.69|[528.0,-124.27,40...|           79000.0|\n",
      "|         394.0|  -124.26|   40.58|[394.0,-124.26,40...|          111400.0|\n",
      "|         419.0|  -124.25|   40.28|[419.0,-124.25,40...|           76100.0|\n",
      "+--------------+---------+--------+--------------------+------------------+\n",
      "only showing top 5 rows\n",
      "\n"
     ]
    }
   ],
   "source": [
    "vecAssembler= VectorAssembler(inputCols=[\"total_bedrooms\",\"longitude\",\"latitude\"],outputCol=\"features\")\n",
    "vecTrainDF=vecAssembler.transform(trainDF)\n",
    "vecTrainDF.select(\"total_bedrooms\",\"longitude\",\"latitude\",\"features\",\"median_house_value\").show(5)"
   ]
  },
  {
   "cell_type": "code",
   "execution_count": 13,
   "metadata": {},
   "outputs": [
    {
     "name": "stdout",
     "output_type": "stream",
     "text": [
      "The formula for the multiple linear regression line is:\n",
      "price = 15.2*bedrooms + -71302.71*longitude + -69323.48*latitude + -5857591.92\n"
     ]
    }
   ],
   "source": [
    "lr = LinearRegression(featuresCol=\"features\", labelCol=\"median_house_value\")\n",
    "lrmodel = lr.fit(vecTrainDF)\n",
    "\n",
    "coeffs = lrmodel.coefficients\n",
    "intercept = round(lrmodel.intercept, 2)\n",
    "m1 = round(coeffs[0], 2)  \n",
    "m2 = round(coeffs[1], 2)  \n",
    "m3 = round(coeffs[2], 2)  \n",
    "\n",
    "print(f\"The formula for the multiple linear regression line is:\")\n",
    "print(f\"price = {m1}*bedrooms + {m2}*longitude + {m3}*latitude + {intercept}\")"
   ]
  },
  {
   "cell_type": "code",
   "execution_count": 14,
   "metadata": {},
   "outputs": [
    {
     "name": "stdout",
     "output_type": "stream",
     "text": [
      "+--------------+---------+--------+--------------------+------------------+------------------+\n",
      "|total_bedrooms|longitude|latitude|            features|median_house_value|        prediction|\n",
      "+--------------+---------+--------+--------------------+------------------+------------------+\n",
      "|         531.0|   -124.3|   41.84|[531.0,-124.3,41.84]|          103600.0|112909.97135147732|\n",
      "|         453.0|  -124.23|   40.54|[453.0,-124.23,40...|          106700.0|196854.03667662852|\n",
      "|         616.0|  -124.23|   41.75|[616.0,-124.23,41...|           73200.0|115449.53553005122|\n",
      "|        1056.0|  -124.19|   40.73|[1056.0,-124.19,4...|           90100.0|189993.51886608265|\n",
      "|         364.0|  -124.18|   40.78|[364.0,-124.18,40...|           67000.0| 175298.8414737638|\n",
      "|         309.0|  -124.17|   40.62|[309.0,-124.17,40...|           86400.0|184841.80373211857|\n",
      "|         479.0|  -124.17|   40.79|[479.0,-124.17,40...|           70500.0| 175640.0936219655|\n",
      "|         283.0|  -124.16|    40.6|[283.0,-124.16,40.6]|           85100.0|185120.15607031807|\n",
      "|         618.0|  -124.16|    40.8|[618.0,-124.16,40.8]|           80500.0|176346.04436603468|\n",
      "|         214.0|  -124.16|   40.95|[214.0,-124.16,40...|           96000.0|159808.42913178355|\n",
      "|         385.0|  -124.16|   41.02|[385.0,-124.16,41...|           75500.0| 157554.2629322894|\n",
      "|         324.0|  -124.16|   41.92|[324.0,-124.16,41...|           75000.0| 94236.18744531274|\n",
      "|         511.0|  -124.15|   40.76|[511.0,-124.15,40...|          100600.0| 176780.0085703358|\n",
      "|         335.0|  -124.15|    40.8|[335.0,-124.15,40.8]|           74100.0|171332.61294627842|\n",
      "|         405.0|  -124.14|   40.59|[405.0,-124.14,40...|           66800.0| 186241.2211260451|\n",
      "|         312.0|  -124.14|    40.8|[312.0,-124.14,40.8]|           72600.0|170270.08298179973|\n",
      "|         462.0|  -124.13|    40.8|[462.0,-124.13,40.8]|           81100.0|171836.42206255998|\n",
      "|         267.0|  -124.08|   40.06|[267.0,-124.08,40...|          135600.0|216607.48645906337|\n",
      "|         799.0|  -124.06|   41.13|[799.0,-124.06,41...|          119400.0|  149089.459327301|\n",
      "|         213.0|  -124.03|   40.45|[213.0,-124.03,40...|           71300.0|185185.62117143348|\n",
      "+--------------+---------+--------+--------------------+------------------+------------------+\n",
      "only showing top 20 rows\n",
      "\n"
     ]
    }
   ],
   "source": [
    "pipeline = Pipeline(stages=[vecAssembler, lr])\n",
    "pipelineModel = pipeline.fit(trainDF)\n",
    "predDF = pipelineModel.transform(testDF)\n",
    "predDF.select(\"total_bedrooms\", \"longitude\", \"latitude\", \"features\", \"median_house_value\", \"prediction\").show()"
   ]
  }
 ],
 "metadata": {
  "kernelspec": {
   "display_name": "Python 3.10 (venv)",
   "language": "python",
   "name": "venv"
  },
  "language_info": {
   "codemirror_mode": {
    "name": "ipython",
    "version": 3
   },
   "file_extension": ".py",
   "mimetype": "text/x-python",
   "name": "python",
   "nbconvert_exporter": "python",
   "pygments_lexer": "ipython3",
   "version": "3.12.2"
  }
 },
 "nbformat": 4,
 "nbformat_minor": 2
}
